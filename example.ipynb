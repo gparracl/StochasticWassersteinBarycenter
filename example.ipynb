{
 "cells": [
  {
   "cell_type": "code",
   "execution_count": 9,
   "metadata": {
    "collapsed": false
   },
   "outputs": [],
   "source": [
    "%matplotlib inline\n",
    "import tensorflow as tf\n",
    "import tensorflow.contrib.distributions as tfd\n",
    "from stochastic_wasserstein_barycenter import StochasticWassersteinBarycenter\n",
    "import matplotlib.pyplot as plt\n",
    "import numpy as np"
   ]
  },
  {
   "cell_type": "code",
   "execution_count": 14,
   "metadata": {
    "collapsed": false
   },
   "outputs": [],
   "source": [
    "distributions = [tfd.MultivariateNormalFullCovariance(loc=[-2.0, 0], covariance_matrix=tf.eye(2)),\n",
    "                    tfd.MultivariateNormalFullCovariance(loc=[2.0, 0], covariance_matrix=tf.eye(2))]\n",
    "\n",
    "barycenter = StochasticWassersteinBarycenter(distributions=distributions, \n",
    "                                             input_dim=2, \n",
    "                                             num_positions=10, \n",
    "                                             tol=0.01, \n",
    "                                             num_samples=150000)\n",
    "pos = barycenter.fit(10)"
   ]
  },
  {
   "cell_type": "code",
   "execution_count": 20,
   "metadata": {
    "collapsed": false
   },
   "outputs": [
    {
     "data": {
      "text/plain": [
       "[<matplotlib.lines.Line2D at 0x7f18d8af7eb8>]"
      ]
     },
     "execution_count": 20,
     "metadata": {},
     "output_type": "execute_result"
    },
    {
     "data": {
      "image/png": "[encoded data removed]",
      "text/plain": [
       "<matplotlib.figure.Figure at 0x7f18d8a4d588>"
      ]
     },
     "metadata": {},
     "output_type": "display_data"
    }
   ],
   "source": [
    "fig = plt.figure(figsize=(7, 7))\n",
    "plt.xlim([-5, 5])\n",
    "plt.ylim([-5, 5])\n",
    "_ = np.random.multivariate_normal(mean=[-2.0, 0.0], cov=np.eye(2), size=10)\n",
    "#plt.plot(_[:, 0], _[:, 1], 'rx')\n",
    "_ = np.random.multivariate_normal(mean=[2.0, 0.0], cov=np.eye(2), size=10)\n",
    "#plt.plot(_[:, 0], _[:, 1], 'bx')\n",
    "plt.plot(pos[:, 0], pos[:, 1], 'kx')"
   ]
  },
  {
   "cell_type": "code",
   "execution_count": null,
   "metadata": {
    "collapsed": true
   },
   "outputs": [],
   "source": []
  }
 ],
 "metadata": {
  "anaconda-cloud": {},
  "kernelspec": {
   "display_name": "Python [conda env:tensorflow-gpu]",
   "language": "python",
   "name": "conda-env-tensorflow-gpu-py"
  },
  "language_info": {
   "codemirror_mode": {
    "name": "ipython",
    "version": 3
   },
   "file_extension": ".py",
   "mimetype": "text/x-python",
   "name": "python",
   "nbconvert_exporter": "python",
   "pygments_lexer": "ipython3",
   "version": "3.6.2"
  }
 },
 "nbformat": 4,
 "nbformat_minor": 1
}
